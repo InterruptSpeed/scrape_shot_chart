{
 "cells": [
  {
   "cell_type": "markdown",
   "id": "47227513-c13f-4143-ad87-d6d4a1a96bb4",
   "metadata": {},
   "source": [
    "# Scrape Shot Chart PoC\n",
    "\n",
    "NOTE: install tesseract first"
   ]
  },
  {
   "cell_type": "code",
   "execution_count": null,
   "id": "c08efe65-6bcd-4e17-ad65-8c158a59f326",
   "metadata": {},
   "outputs": [],
   "source": [
    "!pip install numpy pillow pytesseract pymupdf"
   ]
  },
  {
   "cell_type": "code",
   "execution_count": null,
   "id": "c8225b41-3bb5-4dc0-9ef9-a5c5a2c8ea9d",
   "metadata": {},
   "outputs": [],
   "source": [
    "from PIL import Image, ImageDraw, ImageFilter\n",
    "import pytesseract\n",
    "from pytesseract import Output\n",
    "\n",
    "import numpy as np\n",
    "import pymupdf\n",
    "from typing import List, Dict\n",
    "from pathlib import Path\n",
    "\n",
    "# replace with the path to tesseract on your machine\n",
    "# from a terminal run: 'which tesseract'\n",
    "pytesseract.pytesseract.tesseract_cmd = r'/usr/bin/tesseract'"
   ]
  },
  {
   "cell_type": "code",
   "execution_count": null,
   "id": "81691b60-8412-4b9e-93d1-6004b842289b",
   "metadata": {},
   "outputs": [],
   "source": [
    "def pdf_to_pngs(pdf_fname: str) -> List:\n",
    "    pdffile = Path(pdf_fname)\n",
    "    img_fnames = []\n",
    "    doc = pymupdf.open(pdffile)\n",
    "    for page_index in range(doc.page_count):\n",
    "        page = doc.load_page(page_index)  \n",
    "        pix = page.get_pixmap(dpi=600)\n",
    "        output_fname = Path(f\"{pdffile.stem}_{str(page_index)}.png\")\n",
    "        img_fnames.append(output_fname)\n",
    "        pix.save(output_fname)\n",
    "\n",
    "    return img_fnames"
   ]
  },
  {
   "cell_type": "code",
   "execution_count": null,
   "id": "7fbe389f-1bdb-44b8-9024-ed494e14870e",
   "metadata": {},
   "outputs": [],
   "source": [
    "def split_team_imgs(shot_chart_img_fname: str) -> (Image, Image):\n",
    "    img = Image.open(shot_chart_img_fname).convert('RGB')\n",
    "\n",
    "    left = 1200\n",
    "    top = 1400\n",
    "    right = img.size[0] - 1200\n",
    "    bottom = img.size[1] - 1000\n",
    "    img = img.crop((left, top, right, bottom))\n",
    "    # use only the red_channel from the image\n",
    "    red_channel, _, blue_channel = img.split()\n",
    "    red_channel\n",
    "\n",
    "    # adjust the pixels on the left side\n",
    "    a = np.asarray(red_channel).copy()\n",
    "    #a[a > 25] = 255\n",
    "    a[a != 0] = 255\n",
    "    team_a_img = Image.fromarray(a)\n",
    "\n",
    "    # adjust the pixels on the right side\n",
    "    a = np.asarray(blue_channel).copy()\n",
    "    a[a != 0] = 255\n",
    "    team_b_img = Image.fromarray(a).convert('RGB')\n",
    "    \n",
    "    return (team_a_img, team_b_img)"
   ]
  },
  {
   "cell_type": "code",
   "execution_count": null,
   "id": "da0932d5-32cb-4432-a54a-a6a01bb6c7ff",
   "metadata": {},
   "outputs": [],
   "source": [
    "def has_numbers(in_str: str) -> bool:\n",
    "    return any(char.isdigit() for char in in_str.strip())\n",
    "\n",
    "def has_shot_status_code(in_str: str) -> bool:\n",
    "    return any(c in \"<>+-o\" for c in in_str.strip())"
   ]
  },
  {
   "cell_type": "code",
   "execution_count": null,
   "id": "9e6e5574-1439-400f-b6aa-2118f45febb8",
   "metadata": {},
   "outputs": [],
   "source": [
    "def extract_team_shots(team_shot_chart_img: Image) -> (List, Image):\n",
    "    #processed_img = team_shot_chart_img.copy().filter(ImageFilter.CONTOUR)\n",
    "    #processed_img = team_shot_chart_img.filter(ImageFilter.MinFilter(3))\n",
    "    #processed_img = team_shot_chart_img.filter(ImageFilter.MinFilter(3)).filter(ImageFilter.SHARPEN)\n",
    "    #processed_img = team_shot_chart_img.filter(ImageFilter.SHARPEN)\n",
    "    processed_img = team_shot_chart_img.filter(ImageFilter.EDGE_ENHANCE_MORE)\n",
    "    \n",
    "\n",
    "    custom_config = r'-c tessedit_char_whitelist=1234567890><+-o --psm 11'\n",
    "    #custom_config = r'--psm 6'\n",
    "    #custom_config = r'--psm 11'\n",
    "    \n",
    "    img = np.array(processed_img)\n",
    "    d = pytesseract.image_to_data(img, output_type=Output.DICT, config=custom_config)\n",
    "    n_boxes = len(d['level'])\n",
    "    data = []\n",
    "    draw = ImageDraw.Draw(processed_img)\n",
    "\n",
    "    for i in range(n_boxes):\n",
    "        #if (len(d['text'][i].strip()) > 1):\n",
    "        if (has_numbers(d['text'][i])) & (has_shot_status_code(d['text'][i])) & (\" \" not in d['text'][i]):\n",
    "            (x, y, w, h) = (d['left'][i], d['top'][i], d['width'][i], d['height'][i])\n",
    "            draw.rectangle([x, y, x + w, y + h], outline=\"red\", width=2) # in-place operation\n",
    "            data.append({\"label\": d['text'][i], \"chart_xy\": (x, y)})\n",
    "\n",
    "    return (data, processed_img)"
   ]
  },
  {
   "cell_type": "code",
   "execution_count": null,
   "id": "c93a6e16-f9e9-424d-8890-e2909a2d9313",
   "metadata": {},
   "outputs": [],
   "source": [
    "def get_shots_summary(team_data) -> Dict:\n",
    "    results = {\"goals\" : 0, \"ssp\" : 0, \"ssg\" : 0, \"spg\" : 0}\n",
    "    for d in team_data:\n",
    "        label = d['label']\n",
    "        code = label[0] if has_shot_status_code(label[0]) else label[-1]\n",
    "\n",
    "        match code:\n",
    "            case 'o':\n",
    "                results[\"goals\"] += 1\n",
    "            case '<':\n",
    "                results[\"ssp\"] += 1\n",
    "            case '>':\n",
    "                results[\"ssp\"] += 1\n",
    "            case '+':\n",
    "                results[\"ssg\"] += 1\n",
    "            case '-':\n",
    "                results[\"spg\"] += 1\n",
    "                \n",
    "    return results"
   ]
  },
  {
   "cell_type": "code",
   "execution_count": null,
   "id": "93870c21-dfcd-4fae-8017-d261ffc28024",
   "metadata": {},
   "outputs": [],
   "source": [
    "def scrape_shot_chart(shot_chart_img_fname: str, include_imgs=False) -> Dict:\n",
    "    team_a_img, team_b_img = split_team_imgs(shot_chart_img_fname)\n",
    "\n",
    "    team_a_data, team_a_data_img = extract_team_shots(team_a_img)\n",
    "    team_b_data, team_b_data_img = extract_team_shots(team_b_img)\n",
    "\n",
    "    results = {\n",
    "        \"team_a\": {\"data\" : team_a_data, \"shots_summary\" : get_shots_summary(team_a_data)},\n",
    "        \"team_b\": {\"data\" : team_b_data, \"shots_summary\" : get_shots_summary(team_b_data)}\n",
    "    }\n",
    "    \n",
    "    if include_imgs:\n",
    "        results[\"team_a\"][\"imgs\"] = [team_a_img, team_a_data_img]\n",
    "        results[\"team_b\"][\"imgs\"] = [team_b_img, team_b_data_img]\n",
    "\n",
    "    return results"
   ]
  },
  {
   "cell_type": "code",
   "execution_count": null,
   "id": "4e9312f3-22ff-4bd0-8498-9859013ad2bf",
   "metadata": {},
   "outputs": [],
   "source": [
    "!curl -v --skip-existing \"https://www.iihf.com/pdf/757/ihm757a04_77a_3_0\" -o \"2024-12-26_FIN-CAN.pdf\""
   ]
  },
  {
   "cell_type": "code",
   "execution_count": null,
   "id": "40f419bf-7166-4edb-9d35-0aaa4d1431bb",
   "metadata": {},
   "outputs": [],
   "source": [
    "pdf_to_pngs(\"2024-12-26_FIN-CAN.pdf\")"
   ]
  },
  {
   "cell_type": "code",
   "execution_count": null,
   "id": "ac4bd1f8-cbad-43a8-bc62-24514d5e3220",
   "metadata": {},
   "outputs": [],
   "source": [
    "results = scrape_shot_chart(\"2024-12-26_FIN-CAN_0.png\")"
   ]
  },
  {
   "cell_type": "code",
   "execution_count": null,
   "id": "2f9f02c2-ec06-442e-997a-3e9d637547fc",
   "metadata": {},
   "outputs": [],
   "source": [
    "results"
   ]
  },
  {
   "cell_type": "code",
   "execution_count": null,
   "id": "cdc0839f-608a-41f9-ab8a-c17445ce7da2",
   "metadata": {},
   "outputs": [],
   "source": [
    "img = Image.open(\"2024-12-26_FIN-CAN_0.png\")\n",
    "img"
   ]
  }
 ],
 "metadata": {
  "kernelspec": {
   "display_name": "Python 3 (ipykernel)",
   "language": "python",
   "name": "python3"
  },
  "language_info": {
   "codemirror_mode": {
    "name": "ipython",
    "version": 3
   },
   "file_extension": ".py",
   "mimetype": "text/x-python",
   "name": "python",
   "nbconvert_exporter": "python",
   "pygments_lexer": "ipython3",
   "version": "3.13.1"
  }
 },
 "nbformat": 4,
 "nbformat_minor": 5
}
